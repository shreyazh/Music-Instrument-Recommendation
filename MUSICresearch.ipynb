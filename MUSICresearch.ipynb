{
  "nbformat": 4,
  "nbformat_minor": 0,
  "metadata": {
    "colab": {
      "provenance": []
    },
    "kernelspec": {
      "name": "python3",
      "display_name": "Python 3"
    },
    "language_info": {
      "name": "python"
    }
  },
  "cells": [
    {
      "cell_type": "code",
      "source": [
        "!pip install surprise"
      ],
      "metadata": {
        "colab": {
          "base_uri": "https://localhost:8080/"
        },
        "id": "fMLZ4Rzr4rKC",
        "outputId": "6a788603-3b13-4d68-ba4c-988db46ea58e"
      },
      "execution_count": 3,
      "outputs": [
        {
          "output_type": "stream",
          "name": "stdout",
          "text": [
            "Collecting surprise\n",
            "  Downloading surprise-0.1-py2.py3-none-any.whl.metadata (327 bytes)\n",
            "Collecting scikit-surprise (from surprise)\n",
            "  Downloading scikit_surprise-1.1.4.tar.gz (154 kB)\n",
            "\u001b[2K     \u001b[90m━━━━━━━━━━━━━━━━━━━━━━━━━━━━━━━━━━━━━━━━\u001b[0m \u001b[32m154.4/154.4 kB\u001b[0m \u001b[31m4.6 MB/s\u001b[0m eta \u001b[36m0:00:00\u001b[0m\n",
            "\u001b[?25h  Installing build dependencies ... \u001b[?25l\u001b[?25hdone\n",
            "  Getting requirements to build wheel ... \u001b[?25l\u001b[?25hdone\n",
            "  Preparing metadata (pyproject.toml) ... \u001b[?25l\u001b[?25hdone\n",
            "Requirement already satisfied: joblib>=1.2.0 in /usr/local/lib/python3.11/dist-packages (from scikit-surprise->surprise) (1.4.2)\n",
            "Requirement already satisfied: numpy>=1.19.5 in /usr/local/lib/python3.11/dist-packages (from scikit-surprise->surprise) (1.26.4)\n",
            "Requirement already satisfied: scipy>=1.6.0 in /usr/local/lib/python3.11/dist-packages (from scikit-surprise->surprise) (1.13.1)\n",
            "Downloading surprise-0.1-py2.py3-none-any.whl (1.8 kB)\n",
            "Building wheels for collected packages: scikit-surprise\n",
            "  Building wheel for scikit-surprise (pyproject.toml) ... \u001b[?25l\u001b[?25hdone\n",
            "  Created wheel for scikit-surprise: filename=scikit_surprise-1.1.4-cp311-cp311-linux_x86_64.whl size=2505179 sha256=5615d9c69ec3682a16a8856c9bb31edbf266ad57be1ac4822def0ef0350b4dd2\n",
            "  Stored in directory: /root/.cache/pip/wheels/2a/8f/6e/7e2899163e2d85d8266daab4aa1cdabec7a6c56f83c015b5af\n",
            "Successfully built scikit-surprise\n",
            "Installing collected packages: scikit-surprise, surprise\n",
            "Successfully installed scikit-surprise-1.1.4 surprise-0.1\n"
          ]
        }
      ]
    },
    {
      "cell_type": "code",
      "execution_count": 4,
      "metadata": {
        "colab": {
          "base_uri": "https://localhost:8080/"
        },
        "id": "mMLnAGI52l1V",
        "outputId": "a4a2631f-1087-4c6c-842d-2700090ad52c"
      },
      "outputs": [
        {
          "output_type": "stream",
          "name": "stderr",
          "text": [
            "[nltk_data] Downloading package vader_lexicon to /root/nltk_data...\n"
          ]
        },
        {
          "output_type": "execute_result",
          "data": {
            "text/plain": [
              "True"
            ]
          },
          "metadata": {},
          "execution_count": 4
        }
      ],
      "source": [
        "import pandas as pd\n",
        "import numpy as np\n",
        "from surprise import SVD, Dataset, Reader\n",
        "from surprise.model_selection import train_test_split\n",
        "from nltk.sentiment import SentimentIntensityAnalyzer\n",
        "from sklearn.feature_extraction.text import TfidfVectorizer\n",
        "from sklearn.metrics.pairwise import cosine_similarity\n",
        "import nltk\n",
        "nltk.download('vader_lexicon')"
      ]
    },
    {
      "cell_type": "code",
      "source": [
        "# Load data (sample structure: instrument_id, user_id, rating, review)\n",
        "data = pd.read_csv(\"music_reviews.csv\")\n",
        "\n",
        "# Sentiment Analysis\n",
        "sia = SentimentIntensityAnalyzer()\n",
        "data['sentiment_score'] = data['review'].apply(lambda x: sia.polarity_scores(str(x))['compound'])\n",
        "\n",
        "def normalize_sentiment(score):\n",
        "    return (score + 1) / 2  # Convert [-1,1] range to [0,1]\n",
        "\n",
        "data['normalized_sentiment'] = data['sentiment_score'].apply(normalize_sentiment)"
      ],
      "metadata": {
        "id": "p5KrUobY2rXs"
      },
      "execution_count": 6,
      "outputs": []
    },
    {
      "cell_type": "code",
      "source": [
        "# Collaborative Filtering (Matrix Factorization)\n",
        "reader = Reader(rating_scale=(0, 5))\n",
        "dataset = Dataset.load_from_df(data[['user_id', 'instrument_id', 'rating']], reader)\n",
        "trainset, testset = train_test_split(dataset, test_size=0.2)\n",
        "\n",
        "model = SVD()\n",
        "model.fit(trainset)"
      ],
      "metadata": {
        "colab": {
          "base_uri": "https://localhost:8080/"
        },
        "id": "h4hXrle_2xOa",
        "outputId": "d999ede1-3964-4b4b-d62d-4d49bc1b981d"
      },
      "execution_count": 7,
      "outputs": [
        {
          "output_type": "execute_result",
          "data": {
            "text/plain": [
              "<surprise.prediction_algorithms.matrix_factorization.SVD at 0x7889e44d5e90>"
            ]
          },
          "metadata": {},
          "execution_count": 7
        }
      ]
    },
    {
      "cell_type": "code",
      "source": [
        "# Content-Based Filtering (TF-IDF on reviews)\n",
        "vectorizer = TfidfVectorizer(stop_words='english')\n",
        "tfidf_matrix = vectorizer.fit_transform(data['review'].astype(str))\n",
        "similarity_matrix = cosine_similarity(tfidf_matrix)\n",
        "\n",
        "# Hybrid Recommendation Function\n",
        "def hybrid_recommend(user_id, instrument_id, top_n=5):\n",
        "    # Collaborative Filtering Score\n",
        "    cf_score = model.predict(user_id, instrument_id).est\n",
        "\n",
        "    # Content Similarity Score\n",
        "    instrument_idx = data[data['instrument_id'] == instrument_id].index[0]\n",
        "    content_scores = similarity_matrix[instrument_idx]\n",
        "\n",
        "    # Sentiment Score\n",
        "    sentiment_score = data.loc[instrument_idx, 'normalized_sentiment']\n",
        "\n",
        "    # Hybrid Score (weighted sum)\n",
        "    hybrid_score = 0.5 * cf_score + 0.3 * np.mean(content_scores) + 0.2 * sentiment_score\n",
        "\n",
        "    # Recommend Top N instruments\n",
        "    recommendations = data[['instrument_id']].copy()\n",
        "    recommendations['score'] = hybrid_score\n",
        "    return recommendations.sort_values(by='score', ascending=False).head(top_n)\n",
        "\n",
        "# Example Recommendation\n",
        "print(hybrid_recommend(user_id=123, instrument_id=456))"
      ],
      "metadata": {
        "colab": {
          "base_uri": "https://localhost:8080/"
        },
        "id": "ykEDgIdT22EV",
        "outputId": "18df9408-1fbf-4063-d14a-94f2082de474"
      },
      "execution_count": 8,
      "outputs": [
        {
          "output_type": "stream",
          "name": "stdout",
          "text": [
            "     instrument_id     score\n",
            "0              616  1.672844\n",
            "671            739  1.672844\n",
            "658            791  1.672844\n",
            "659            594  1.672844\n",
            "660            565  1.672844\n"
          ]
        }
      ]
    },
    {
      "cell_type": "code",
      "source": [],
      "metadata": {
        "id": "NGiMZznD5a8w"
      },
      "execution_count": null,
      "outputs": []
    }
  ]
}