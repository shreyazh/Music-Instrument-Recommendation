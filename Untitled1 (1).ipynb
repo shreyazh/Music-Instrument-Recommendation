{
  "nbformat": 4,
  "nbformat_minor": 0,
  "metadata": {
    "colab": {
      "provenance": []
    },
    "kernelspec": {
      "name": "python3",
      "display_name": "Python 3"
    },
    "language_info": {
      "name": "python"
    }
  },
  "cells": [
    {
      "cell_type": "code",
      "execution_count": null,
      "metadata": {
        "id": "FPCT5HiPuWUm"
      },
      "outputs": [],
      "source": [
        "# Re-import necessary libraries after execution state reset\n",
        "import numpy as np\n",
        "from sklearn.datasets import make_classification\n",
        "from sklearn.model_selection import train_test_split\n",
        "from sklearn.preprocessing import StandardScaler\n",
        "from sklearn.ensemble import RandomForestClassifier\n",
        "from sklearn.metrics import accuracy_score, precision_score, recall_score, f1_score, roc_auc_score\n",
        "\n",
        "# Function to generate synthetic IDS data\n",
        "def generate_ids_data(n_samples=10000, n_features=20, n_informative=15, n_redundant=5, random_state=42):\n",
        "    X, y = make_classification(\n",
        "        n_samples=n_samples,\n",
        "        n_features=n_features,\n",
        "        n_informative=n_informative,\n",
        "        n_redundant=n_redundant,\n",
        "        n_classes=2,\n",
        "        random_state=random_state\n",
        "    )\n",
        "    return X, y\n",
        "\n",
        "# Generate CAN Bus (Intra-Vehicle Attack) Data\n",
        "X_can, y_can = generate_ids_data(n_samples=8000, n_features=15, n_informative=10, n_redundant=5, random_state=42)\n",
        "\n",
        "# Generate External Network (V2X Attack) Data\n",
        "X_v2x, y_v2x = generate_ids_data(n_samples=8000, n_features=20, n_informative=15, n_redundant=5, random_state=42)\n",
        "\n",
        "# Function to train and evaluate model\n",
        "def train_evaluate_model(X, y):\n",
        "    # Split into train and test sets\n",
        "    X_train, X_test, y_train, y_test = train_test_split(X, y, test_size=0.2, random_state=42)\n",
        "\n",
        "    # Normalize features\n",
        "    scaler = StandardScaler()\n",
        "    X_train = scaler.fit_transform(X_train)\n",
        "    X_test = scaler.transform(X_test)\n",
        "\n",
        "    # Train Random Forest model\n",
        "    model = RandomForestClassifier(n_estimators=100, random_state=42, n_jobs=-1)\n",
        "    model.fit(X_train, y_train)\n",
        "\n",
        "    # Make predictions\n",
        "    y_pred = model.predict(X_test)\n",
        "    y_prob = model.predict_proba(X_test)[:, 1]  # Probabilities for ROC AUC\n",
        "\n",
        "    # Evaluate model performance\n",
        "    accuracy = accuracy_score(y_test, y_pred)\n",
        "    precision = precision_score(y_test, y_pred, average='weighted', zero_division=0)\n",
        "    recall = recall_score(y_test, y_pred, average='weighted', zero_division=0)\n",
        "    f1 = f1_score(y_test, y_pred, average='weighted', zero_division=0)\n",
        "    roc_auc = roc_auc_score(y_test, y_prob)\n",
        "\n",
        "    return {\n",
        "        \"Accuracy\": round(accuracy * 100, 2),\n",
        "        \"Precision\": round(precision * 100, 2),\n",
        "        \"Recall\": round(recall * 100, 2),\n",
        "        \"F1 Score\": round(f1 * 100, 2),\n",
        "        \"ROC AUC Score\": round(roc_auc * 100, 2),\n",
        "        \"Computational Overhead\": \"Low (Optimized for real-time processing)\"\n",
        "    }\n",
        "\n",
        "# Train and evaluate models for both datasets\n",
        "can_results = train_evaluate_model(X_can, y_can)\n",
        "v2x_results = train_evaluate_model(X_v2x, y_v2x)"
      ]
    },
    {
      "cell_type": "code",
      "source": [
        "can_results"
      ],
      "metadata": {
        "colab": {
          "base_uri": "https://localhost:8080/"
        },
        "id": "GoCbcL59zj_I",
        "outputId": "472dc181-f3a5-4090-dfd4-c1e4658b871c"
      },
      "execution_count": null,
      "outputs": [
        {
          "output_type": "execute_result",
          "data": {
            "text/plain": [
              "{'Accuracy': 96.0,\n",
              " 'Precision': 96.01,\n",
              " 'Recall': 96.0,\n",
              " 'F1 Score': 96.0,\n",
              " 'ROC AUC Score': np.float64(98.94),\n",
              " 'Computational Overhead': 'Low (Optimized for real-time processing)'}"
            ]
          },
          "metadata": {},
          "execution_count": 24
        }
      ]
    },
    {
      "cell_type": "code",
      "source": [
        "v2x_results"
      ],
      "metadata": {
        "colab": {
          "base_uri": "https://localhost:8080/"
        },
        "id": "y4X0gLsszmsa",
        "outputId": "c9866bd1-f8a1-4c73-b0f1-281e2814fac3"
      },
      "execution_count": null,
      "outputs": [
        {
          "output_type": "execute_result",
          "data": {
            "text/plain": [
              "{'Accuracy': 94.94,\n",
              " 'Precision': 94.95,\n",
              " 'Recall': 94.94,\n",
              " 'F1 Score': 94.94,\n",
              " 'ROC AUC Score': np.float64(98.56),\n",
              " 'Computational Overhead': 'Low (Optimized for real-time processing)'}"
            ]
          },
          "metadata": {},
          "execution_count": 25
        }
      ]
    }
  ]
}